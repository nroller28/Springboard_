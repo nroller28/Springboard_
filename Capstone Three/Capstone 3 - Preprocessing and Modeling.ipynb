{
 "cells": [
  {
   "cell_type": "markdown",
   "metadata": {},
   "source": [
    "# Ethereum Price Prediciton "
   ]
  },
  {
   "cell_type": "markdown",
   "metadata": {},
   "source": [
    "## Modeling and Preprocessing"
   ]
  },
  {
   "cell_type": "markdown",
   "metadata": {},
   "source": [
    "### 1. Preprocessing"
   ]
  },
  {
   "cell_type": "markdown",
   "metadata": {},
   "source": [
    "Since our objective is time-series analysis, our primary focus here will be how to best split our test and train data sets. Some considerations here are that we will likely want our test data split to be analogous with the time nearest where we are forecasting from, either by seasonality or simply the most recent time nearest where we are forecasting from."
   ]
  },
  {
   "cell_type": "code",
   "execution_count": 1,
   "metadata": {},
   "outputs": [],
   "source": [
    "#import relevant modules\n",
    "import pandas as pd\n",
    "import numpy as np\n",
    "from datetime import datetime, timedelta\n",
    "import statsmodels.api as sm\n",
    "%matplotlib inline"
   ]
  },
  {
   "cell_type": "code",
   "execution_count": 2,
   "metadata": {},
   "outputs": [
    {
     "data": {
      "text/plain": [
       "['C:\\\\springboard_\\\\Capstone Three',\n",
       " 'C:\\\\Springboard_\\\\DataScienceGuidedCapstone\\\\Notebooks\\\\library',\n",
       " 'C:\\\\Users\\\\nicho\\\\anaconda3\\\\python38.zip',\n",
       " 'C:\\\\Users\\\\nicho\\\\anaconda3\\\\DLLs',\n",
       " 'C:\\\\Users\\\\nicho\\\\anaconda3\\\\lib',\n",
       " 'C:\\\\Users\\\\nicho\\\\anaconda3',\n",
       " '',\n",
       " 'C:\\\\Users\\\\nicho\\\\AppData\\\\Roaming\\\\Python\\\\Python38\\\\site-packages',\n",
       " 'C:\\\\Users\\\\nicho\\\\anaconda3\\\\lib\\\\site-packages',\n",
       " 'C:\\\\Users\\\\nicho\\\\anaconda3\\\\lib\\\\site-packages\\\\win32',\n",
       " 'C:\\\\Users\\\\nicho\\\\anaconda3\\\\lib\\\\site-packages\\\\win32\\\\lib',\n",
       " 'C:\\\\Users\\\\nicho\\\\anaconda3\\\\lib\\\\site-packages\\\\Pythonwin',\n",
       " 'C:\\\\Users\\\\nicho\\\\anaconda3\\\\lib\\\\site-packages\\\\IPython\\\\extensions',\n",
       " 'C:\\\\Users\\\\nicho\\\\.ipython']"
      ]
     },
     "execution_count": 2,
     "metadata": {},
     "output_type": "execute_result"
    }
   ],
   "source": [
    "data = pd.read_csv('data_enhanced.csv')\n",
    "features = pd.read_csv('engineered_features.csv')"
   ]
  },
  {
   "cell_type": "markdown",
   "metadata": {},
   "source": [
    "### 2. Modeling"
   ]
  },
  {
   "cell_type": "markdown",
   "metadata": {},
   "source": [
    "We will be testing and considering several time-series models, including: exponential smoothing, tbats and Facebook Prophet models. For exponential smoothing, we will likely look to use either the double or triple (also known as Holt_winters Exponential Smoothing) variants since we know our time-series has trend and we will decide between these two based on whether we determine if seasonality is present as well."
   ]
  }
 ],
 "metadata": {
  "kernelspec": {
   "display_name": "Python 3",
   "language": "python",
   "name": "python3"
  },
  "language_info": {
   "codemirror_mode": {
    "name": "ipython",
    "version": 3
   },
   "file_extension": ".py",
   "mimetype": "text/x-python",
   "name": "python",
   "nbconvert_exporter": "python",
   "pygments_lexer": "ipython3",
   "version": "3.8.8"
  }
 },
 "nbformat": 4,
 "nbformat_minor": 4
}
